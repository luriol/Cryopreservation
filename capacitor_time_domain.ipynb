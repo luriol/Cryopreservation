{
 "cells": [
  {
   "cell_type": "code",
   "execution_count": null,
   "id": "a5b2d601",
   "metadata": {},
   "outputs": [],
   "source": [
    "import numpy as np\n",
    "import matplotlib.pyplot as plt\n",
    "import scipy.constants as scc\n",
    "\n",
    "# Parameters\n",
    "N = 2**10\n",
    "T = 3 * scc.milli\n",
    "dt = T / N\n",
    "t = np.linspace(0, T, N, endpoint=False)\n",
    "\n",
    "# Construct input rectangular pulse (centered 1/3 to 2/3)\n",
    "u_t = np.zeros(N)\n",
    "u_t[N//3 : 2*N//3] = 1\n",
    "\n",
    "# FFT of input signal\n",
    "U_w = np.fft.fft(u_t) * dt\n",
    "w = 2 * np.pi * np.fft.fftfreq(N, d=dt) + np.finfo(float).eps\n",
    "\n",
    "# RC circuit transfer function H(w) = 1 / (1 + i w RC)\n",
    "R = 1 * scc.mega\n",
    "C = 40 * scc.pico\n",
    "H_w = 1 / (1 + 1j * w * R * C)\n",
    "\n",
    "# Multiply in frequency domain and return to time domain\n",
    "V_w = H_w * U_w\n",
    "v_t = np.fft.ifft(V_w).real / dt  # rescale back\n",
    "\n",
    "# Plot if you want\n",
    "plt.plot(t / scc.milli, v_t, label=\"Output v(t)\")\n",
    "plt.plot(t / scc.milli, u_t, '--', label=\"Input u(t)\")\n",
    "plt.xlabel(\"Time (ms)\")\n",
    "plt.ylabel(\"Voltage (arb. units)\")\n",
    "plt.legend()\n",
    "plt.grid()\n",
    "plt.title(\"RC Response to Rectangular Pulse\")\n",
    "plt.show()\n"
   ]
  },
  {
   "cell_type": "code",
   "execution_count": null,
   "id": "093df9bc",
   "metadata": {},
   "outputs": [
    {
     "ename": "NameError",
     "evalue": "name 'np' is not defined",
     "output_type": "error",
     "traceback": [
      "\u001b[1;31m---------------------------------------------------------------------------\u001b[0m",
      "\u001b[1;31mNameError\u001b[0m                                 Traceback (most recent call last)",
      "Cell \u001b[1;32mIn[2], line 2\u001b[0m\n\u001b[0;32m      1\u001b[0m \u001b[38;5;66;03m# FFTs of input and output signals\u001b[39;00m\n\u001b[1;32m----> 2\u001b[0m U_w_recover \u001b[38;5;241m=\u001b[39m np\u001b[38;5;241m.\u001b[39mfft\u001b[38;5;241m.\u001b[39mfft((u_t)) \u001b[38;5;241m*\u001b[39m dt\n\u001b[0;32m      3\u001b[0m V_w_recover \u001b[38;5;241m=\u001b[39m np\u001b[38;5;241m.\u001b[39mfft\u001b[38;5;241m.\u001b[39mfft(v_t) \u001b[38;5;241m*\u001b[39m dt\n\u001b[0;32m      5\u001b[0m \u001b[38;5;66;03m# Avoid divide-by-zero: apply a threshold to |U(w)|\u001b[39;00m\n",
      "\u001b[1;31mNameError\u001b[0m: name 'np' is not defined"
     ]
    }
   ],
   "source": [
    "# FFTs of input and output signals\n",
    "U_w_recover = np.fft.fft((u_t)) * dt\n",
    "V_w_recover = np.fft.fft(v_t) * dt\n",
    "\n",
    "# Avoid divide-by-zero: apply a threshold to |U(w)|\n",
    "eps = 1e-10 * np.max(np.abs(U_w_recover))\n",
    "H_w_recovered = np.where(\n",
    "    np.abs(U_w_recover) > eps,\n",
    "    V_w_recover / U_w_recover,\n",
    "    0\n",
    ")\n",
    "\n",
    "# Sort frequencies and corresponding H_w values for clean plotting\n",
    "sort_idx = np.argsort(w)\n",
    "w_sorted = w[sort_idx]\n",
    "H_w_sorted = H_w_recovered[sort_idx]\n",
    "H_w_true_sorted = H_w[sort_idx]  # optional: if you want to compare to ground truth\n",
    "\n",
    "# Plot the magnitude and phase of recovered H(w)\n",
    "plt.figure(figsize=(12, 5))\n",
    "\n",
    "plt.subplot(1, 2, 1)\n",
    "plt.plot(w_sorted / (2 * np.pi * 1e3), np.real(H_w_sorted), label=\"Recovered real\")\n",
    "plt.plot(w_sorted / (2 * np.pi * 1e3), np.real(H_w_true_sorted), '--r', label=\"True real\")\n",
    "plt.title(\"Recovered |H(w)|\")\n",
    "plt.xlabel(\"Frequency (kHz)\")\n",
    "plt.ylabel(\"Magnitude\")\n",
    "plt.grid()\n",
    "plt.legend()\n",
    "\n",
    "plt.subplot(1, 2, 2)\n",
    "plt.plot(w_sorted / (2 * np.pi * 1e3), np.imag(H_w_sorted), label=\"Recovered imag\")\n",
    "plt.plot(w_sorted / (2 * np.pi * 1e3), np.imag(H_w_true_sorted), '--r', label=\"True imag\")\n",
    "plt.title(\"Recovered Phase of H(w)\")\n",
    "plt.xlabel(\"Frequency (kHz)\")\n",
    "plt.ylabel(\"Phase (radians)\")\n",
    "plt.grid()\n",
    "\n",
    "plt.tight_layout()\n",
    "plt.show()\n"
   ]
  },
  {
   "cell_type": "code",
   "execution_count": null,
   "id": "41d1cb4f",
   "metadata": {},
   "outputs": [],
   "source": [
    "# now include epsilon(w)\n",
    "def rho_W(T):\n",
    "    rho = np.exp(T**2*a+T*b+c)\n",
    "    return rho \n",
    "def eps_sugar(omega,T,tau):\n",
    "    Delta_k = 100\n",
    "    y = -1j/(rho_W(T-273.15)*scc.centi)/omega/scc.epsilon_0/10\n",
    "    y += Delta_k/(1 + 1j*omega*tau)\n",
    "    return y\n",
    "\n",
    "T = 260\n",
    "omega = np.exp(np.linspace(np.log(1),np.log(1e8),1000))\n",
    "tau = 1e-5\n",
    "eps = eps_sugar(omega,T,tau)"
   ]
  }
 ],
 "metadata": {
  "kernelspec": {
   "display_name": "base",
   "language": "python",
   "name": "python3"
  },
  "language_info": {
   "codemirror_mode": {
    "name": "ipython",
    "version": 3
   },
   "file_extension": ".py",
   "mimetype": "text/x-python",
   "name": "python",
   "nbconvert_exporter": "python",
   "pygments_lexer": "ipython3",
   "version": "3.12.7"
  }
 },
 "nbformat": 4,
 "nbformat_minor": 5
}
