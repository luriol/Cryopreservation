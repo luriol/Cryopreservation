{
  "cells": [
    {
      "cell_type": "code",
      "execution_count": 1,
      "metadata": {
        "id": "_osPxcWsoDn7"
      },
      "outputs": [],
      "source": [
        "import numpy as np\n",
        "import scipy.constants as scc\n",
        "from matplotlib import pyplot as plt\n",
        "import scipy.constants as scc"
      ]
    },
    {
      "cell_type": "code",
      "execution_count": 2,
      "metadata": {
        "id": "WyuN9NBRNRpp"
      },
      "outputs": [],
      "source": [
        "def cap_calc(R, f, A):\n",
        "  w = 2 * np.pi * f\n",
        "  C = np.sqrt(A**2/(w**2*R**2*(1-A**2)))\n",
        "  return C"
      ]
    },
    {
      "cell_type": "code",
      "execution_count": 3,
      "metadata": {
        "id": "or9K11yp6vwd"
      },
      "outputs": [],
      "source": [
        "def analyze_resistor(R_value, V_0, freq_array, amp_array, cap_fn, **cap_kwargs):\n",
        "    \"\"\"Analyzes data for a given resistor using a specified capacitance function.\"\"\"\n",
        "    R_label = f\"{R_value // scc.kilo}K\"\n",
        "    print(f\"\\nResults for {R_label} resistor:\")\n",
        "    print(f\"{'f (kHz)':>10}  {'A':>6}  {'C (pF)':>10}\")\n",
        "    print(\"-\" * 30)\n",
        "\n",
        "    A = amp_array / V_0  # Divide the measured amplitude by V_0\n",
        "\n",
        "    # Call cap_fn with optional arguments\n",
        "    C = cap_fn(R_value, freq_array, A, **cap_kwargs)\n",
        "\n",
        "    for f, A_val, C_val in zip(freq_array, A, C):\n",
        "        print(f\"{f/scc.kilo:10.2f}  {A_val:6.2f}  {C_val/scc.pico:10.2f}\")\n"
      ]
    },
    {
      "cell_type": "code",
      "execution_count": null,
      "metadata": {
        "id": "rvcLXoGZJTyR"
      },
      "outputs": [],
      "source": [
        "resistor_data = [\n",
        "    {\n",
        "        \"R\": 1 * scc.mega,\n",
        "        \"V_0\": 2,\n",
        "        \"frequencies\": [400, 700, 1000, 1300, 1700, 2000, 2300, 2700, 3000],\n",
        "        \"amplitudes\":  [0.448, 0.672, 0.824, 0.912, 0.992, 1.024, 1.056, 1.08, 1.096]\n",
        "    },\n",
        "    {\n",
        "        \"R\": 2 * scc.mega,\n",
        "        \"V_0\": 2,\n",
        "        \"frequencies\": [400, 800, 1200, 2500, 4300, 5300],\n",
        "        \"amplitudes\":  [0.544, 0.768, 0.912, 1.12, 1.2, 1.2]\n",
        "    },\n",
        "     {\n",
        "        \"R\": 4 * scc.mega,\n",
        "        \"V_0\": 2,\n",
        "        \"frequencies\": [500, 800, 1200, 1700, 2000, 2500, 3000, 5300],\n",
        "        \"amplitudes\":  [0.384, 0.496, 0.624, 0.736, 0.784, 0.848, 0.904, 1.016]\n",
        "    }]\n",
        "    "
      ]
    },
    {
      "cell_type": "code",
      "execution_count": 6,
      "metadata": {},
      "outputs": [],
      "source": [
        "# Resistor data with cold cell\n",
        "resistor_data_2 = [\n",
        "{\n",
        "        \"R\": 0.1 * scc.mega,\n",
        "        \"V_0\": 2,\n",
        "        \"frequencies\": [1000, 2000, 5000, 10000, 20000],\n",
        "        \"amplitudes\":  [0.0165, 0.0334, 0.0626, 0.0893, 0.107],\n",
        "        \"Phi\": [0.673, 4.7, 4.77, -0.4, 1.89]\n",
        "    },\n",
        "    {\n",
        "        \"R\": 0.05 * scc.mega,\n",
        "        \"V_0\": 2,\n",
        "        \"frequencies\": [20],\n",
        "        \"amplitudes\":  [0.104],\n",
        "        \"Phi\": [-1.58]\n",
        "    },\n",
        "    {\n",
        "        \"R\": 0.03 * scc.mega,\n",
        "        \"V_0\": 2,\n",
        "        \"frequencies\": [20000],\n",
        "        \"amplitudes\":  [0.0987],\n",
        "        \"Phi\": [4.07]\n",
        "    }\n",
        "]\n"
      ]
    },
    {
      "cell_type": "code",
      "execution_count": null,
      "metadata": {},
      "outputs": [],
      "source": [
        "# .01 microfarad capacitor data\n",
        "resistor_data_2 = [\n",
        "{\n",
        "        \"R\": 0.1 * scc.mega,\n",
        "        \"V_0\": 2,\n",
        "        \"frequencies\": [1000, 2000, 5000, 10000, 20000],\n",
        "        \"amplitudes\":  [0.0165, 0.0334, 0.0626, 0.0893, 0.107],\n",
        "        \"Phi\": [0.673, 4.7, 4.77, -0.4, 1.89]\n",
        "    },\n",
        "]"
      ]
    },
    {
      "cell_type": "code",
      "execution_count": 5,
      "metadata": {
        "colab": {
          "base_uri": "https://localhost:8080/"
        },
        "id": "I5647fagMXhm",
        "outputId": "410cde50-ef3b-4793-9c91-63f9a08ac67d"
      },
      "outputs": [
        {
          "name": "stdout",
          "output_type": "stream",
          "text": [
            "\n",
            "Results for 1000.0K resistor:\n",
            "   f (kHz)       A      C (pF)\n",
            "------------------------------\n",
            "      0.40    0.22       91.45\n",
            "      0.70    0.34       81.11\n",
            "      1.00    0.41       71.96\n",
            "      1.30    0.46       62.73\n",
            "      1.70    0.50       53.48\n",
            "      2.00    0.51       47.43\n",
            "      2.30    0.53       43.02\n",
            "      2.70    0.54       37.82\n",
            "      3.00    0.55       34.76\n",
            "\n",
            "Results for 2000.0K resistor:\n",
            "   f (kHz)       A      C (pF)\n",
            "------------------------------\n",
            "      0.40    0.27       56.23\n",
            "      0.80    0.38       41.37\n",
            "      1.20    0.46       33.98\n",
            "      2.50    0.56       21.52\n",
            "      4.30    0.60       13.88\n",
            "      5.30    0.60       11.26\n",
            "\n",
            "Results for 4000.0K resistor:\n",
            "   f (kHz)       A      C (pF)\n",
            "------------------------------\n",
            "      0.50    0.19       15.57\n",
            "      0.80    0.25       12.73\n",
            "      1.20    0.31       10.89\n",
            "      1.70    0.37        9.26\n",
            "      2.00    0.39        8.48\n",
            "      2.50    0.42        7.45\n",
            "      3.00    0.45        6.72\n",
            "      5.30    0.51        4.43\n",
            "\n",
            "Results for 100.0K resistor:\n",
            "   f (kHz)       A      C (pF)\n",
            "------------------------------\n",
            "      1.00    0.01       13.13\n",
            "      2.00    0.02       13.29\n",
            "      5.00    0.03        9.97\n",
            "     10.00    0.04        7.11\n",
            "     20.00    0.05        4.26\n",
            "\n",
            "Results for 50.0K resistor:\n",
            "   f (kHz)       A      C (pF)\n",
            "------------------------------\n",
            "      0.02    0.05     8287.27\n",
            "\n",
            "Results for 30.0K resistor:\n",
            "   f (kHz)       A      C (pF)\n",
            "------------------------------\n",
            "     20.00    0.05       13.11\n"
          ]
        }
      ],
      "source": [
        "for entry in resistor_data:\n",
        "    freqs = np.array(entry[\"frequencies\"])\n",
        "    amps  = np.array(entry[\"amplitudes\"])\n",
        "    analyze_resistor(entry[\"R\"], entry[\"V_0\"],freqs, amps, cap_calc)\n"
      ]
    }
  ],
  "metadata": {
    "colab": {
      "provenance": []
    },
    "kernelspec": {
      "display_name": "base",
      "language": "python",
      "name": "python3"
    },
    "language_info": {
      "codemirror_mode": {
        "name": "ipython",
        "version": 3
      },
      "file_extension": ".py",
      "mimetype": "text/x-python",
      "name": "python",
      "nbconvert_exporter": "python",
      "pygments_lexer": "ipython3",
      "version": "3.12.7"
    }
  },
  "nbformat": 4,
  "nbformat_minor": 0
}
