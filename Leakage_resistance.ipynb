{
 "cells": [
  {
   "cell_type": "markdown",
   "metadata": {},
   "source": [
    "The capacitor will have leakage resistance due to the finite resistivity of the sugar solution.  For simplicity we will assume the resitivity is due to the water rather than the sugar (as the sugar is not charged it should not contribute.)\n",
    "\n",
    "The stated resistivity of the water is $\\rho = $ 18 M$\\Omega$ cm.  The resistance for a capacitor of area $A$ and spacing $d$ is then given by\n",
    "\n",
    "$$\n",
    "R = \\rho d/A\n",
    "$$\n"
   ]
  },
  {
   "cell_type": "code",
   "execution_count": 25,
   "metadata": {},
   "outputs": [
    {
     "name": "stdout",
     "output_type": "stream",
     "text": [
      "Leakage resistance = 44.4 kOhm\n"
     ]
    }
   ],
   "source": [
    "import numpy as np\n",
    "import scipy.constants as scc\n",
    "r = 1*scc.inch\n",
    "A = np.pi*r**2  # 1 inch plate radius\n",
    "d = .5*scc.milli  # half millimeter plate spacing\n",
    "rho = 18*scc.mega*scc.centi\n",
    "R = rho*d/A\n",
    "print(f'Leakage resistance = {R/scc.kilo:4.1f} kOhm')"
   ]
  },
  {
   "cell_type": "markdown",
   "metadata": {},
   "source": [
    "We actually coated the capacitor plates with an insulator, so there should not be any leakage directly through the plates.  However, if the solution shorts out the capacitor, then it effectively moves the plates very close together, giving a very large capacitance, which is essentially the same as shorting out the plates.  \n",
    "\n",
    "I think the proper analysis is to put the leakage resistance in parallel with the capacitance.  This has the effectthat the capacitor has an $RC$ time constant given by the leakage resistance and the capacitance and  for times less than the time constant the capacitor looks like a capacitor and for times longer than the time constant it looks like a resistor. "
   ]
  },
  {
   "cell_type": "code",
   "execution_count": 26,
   "metadata": {},
   "outputs": [
    {
     "name": "stdout",
     "output_type": "stream",
     "text": [
      "Capacitance with water C = 2.871 nF\n",
      "Capacitor leakage time constant tau = 127.500 micro s\n"
     ]
    }
   ],
   "source": [
    "# assume k = 80 for water\n",
    "k = 80\n",
    "C = scc.epsilon_0*k*A/d \n",
    "print(f'Capacitance with water C = {C/scc.nano:5.3f} nF')\n",
    "tau = R*C\n",
    "print(f'Capacitor leakage time constant tau = {tau/scc.micro:5.3f} micro s')"
   ]
  },
  {
   "cell_type": "markdown",
   "metadata": {},
   "source": [
    "Thus the time constant is around 100 $\\mu$ s, which means it will be hard to measure the capacitance except at very short times.  It could also be shorter than this in the event that the water isn't perfectly deionized.  Likely the time constant we are seeing is for the Arduino capacitance and the resistor, not the capacitor.  But not 100% sure of this until we run some more tests with different resistor values.  \n",
    "\n",
    "On the plus side, if we cool the water down to 0C the resistivity goes up by around a factor of 5, which helps a little, and possibly if we go to the glass phase where things are significantly colder (e.g. -20C?) we will see another factor of 5 decrease.\n",
    "\n",
    "I suspect then that the best strategy will be to go with a resistor that is of order 50 k-Ohm so that we get a faster relaxation time and don't have such a big problem with the leakage current.  "
   ]
  },
  {
   "cell_type": "markdown",
   "metadata": {},
   "source": [
    "We can also estimate the leakage resistance from the asymtotic value of the Voltage at long times (from Kyle's arduino measurement).  At long times, this just looks like a resistance voltage divider and the voltage should be given by $V = V_0 \\frac{R_{leak}}{R_{leak} + R_L}$  or, solving for $R_{leak}$, \n",
    "\n",
    "$$\n",
    "R_{leak} = R_L\\frac{V}{V_0 +V}\n",
    "$$\n",
    "\n",
    "From Kyles measurement $V_0$ = 5V and $V$ = .25V"
   ]
  },
  {
   "cell_type": "code",
   "execution_count": 27,
   "metadata": {},
   "outputs": [
    {
     "name": "stdout",
     "output_type": "stream",
     "text": [
      "measured leakage = 47.62 k Ohm vs. expected = 44.40 k Ohm\n"
     ]
    }
   ],
   "source": [
    "V0 = 5\n",
    "V = .25\n",
    "R_L= 1*scc.mega \n",
    "R_leak = R_L*V/(V+V0)\n",
    "print(f'measured leakage = {R_leak/scc.kilo:.2f} k Ohm vs. expected = {R/scc.kilo:.2f} k Ohm') "
   ]
  },
  {
   "cell_type": "markdown",
   "metadata": {},
   "source": [
    "This seems pretty close, so thats encouraging that this model is correct."
   ]
  },
  {
   "cell_type": "code",
   "execution_count": 28,
   "metadata": {},
   "outputs": [],
   "source": [
    "rho_0 = 85.841*scc.mega*scc.centi"
   ]
  },
  {
   "cell_type": "markdown",
   "metadata": {},
   "source": []
  },
  {
   "cell_type": "code",
   "execution_count": 30,
   "metadata": {},
   "outputs": [
    {
     "name": "stdout",
     "output_type": "stream",
     "text": [
      "C2 = 2.83 nF\n"
     ]
    }
   ],
   "source": [
    "d2 = .25*scc.milli*scc.inch \n",
    "C2 = scc.epsilon_0*A/d2 \n",
    "print(f'C2 = {C2/scc.nano:4.2f} nF')"
   ]
  },
  {
   "cell_type": "code",
   "execution_count": 5,
   "metadata": {},
   "outputs": [
    {
     "data": {
      "text/plain": [
       "194.64999999999998"
      ]
     },
     "execution_count": 5,
     "metadata": {},
     "output_type": "execute_result"
    }
   ],
   "source": [
    "20*scc.milli/scc.inch\n",
    "273.15-78.5"
   ]
  },
  {
   "cell_type": "code",
   "execution_count": null,
   "metadata": {},
   "outputs": [],
   "source": []
  },
  {
   "cell_type": "markdown",
   "metadata": {},
   "source": []
  },
  {
   "cell_type": "markdown",
   "metadata": {},
   "source": [
    "Regarding the seo"
   ]
  },
  {
   "cell_type": "markdown",
   "metadata": {},
   "source": []
  }
 ],
 "metadata": {
  "kernelspec": {
   "display_name": "base",
   "language": "python",
   "name": "python3"
  },
  "language_info": {
   "codemirror_mode": {
    "name": "ipython",
    "version": 3
   },
   "file_extension": ".py",
   "mimetype": "text/x-python",
   "name": "python",
   "nbconvert_exporter": "python",
   "pygments_lexer": "ipython3",
   "version": "3.12.7"
  }
 },
 "nbformat": 4,
 "nbformat_minor": 2
}
